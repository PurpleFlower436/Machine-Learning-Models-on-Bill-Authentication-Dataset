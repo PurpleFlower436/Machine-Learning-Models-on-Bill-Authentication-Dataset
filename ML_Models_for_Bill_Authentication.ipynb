{
  "nbformat": 4,
  "nbformat_minor": 0,
  "metadata": {
    "colab": {
      "provenance": []
    },
    "kernelspec": {
      "name": "python3",
      "display_name": "Python 3"
    },
    "language_info": {
      "name": "python"
    }
  },
  "cells": [
    {
      "cell_type": "code",
      "source": [
        "\n",
        "from google.colab import files\n",
        " \n",
        " \n",
        "uploaded = files.upload()"
      ],
      "metadata": {
        "colab": {
          "base_uri": "https://localhost:8080/",
          "height": 74
        },
        "id": "OENC0CDsfjiH",
        "outputId": "36d0c0d4-27be-48da-d408-ae81fb800ebf"
      },
      "execution_count": null,
      "outputs": [
        {
          "output_type": "display_data",
          "data": {
            "text/plain": [
              "<IPython.core.display.HTML object>"
            ],
            "text/html": [
              "\n",
              "     <input type=\"file\" id=\"files-8de8cda8-f388-4e36-b9bb-392708d961d5\" name=\"files[]\" multiple disabled\n",
              "        style=\"border:none\" />\n",
              "     <output id=\"result-8de8cda8-f388-4e36-b9bb-392708d961d5\">\n",
              "      Upload widget is only available when the cell has been executed in the\n",
              "      current browser session. Please rerun this cell to enable.\n",
              "      </output>\n",
              "      <script>// Copyright 2017 Google LLC\n",
              "//\n",
              "// Licensed under the Apache License, Version 2.0 (the \"License\");\n",
              "// you may not use this file except in compliance with the License.\n",
              "// You may obtain a copy of the License at\n",
              "//\n",
              "//      http://www.apache.org/licenses/LICENSE-2.0\n",
              "//\n",
              "// Unless required by applicable law or agreed to in writing, software\n",
              "// distributed under the License is distributed on an \"AS IS\" BASIS,\n",
              "// WITHOUT WARRANTIES OR CONDITIONS OF ANY KIND, either express or implied.\n",
              "// See the License for the specific language governing permissions and\n",
              "// limitations under the License.\n",
              "\n",
              "/**\n",
              " * @fileoverview Helpers for google.colab Python module.\n",
              " */\n",
              "(function(scope) {\n",
              "function span(text, styleAttributes = {}) {\n",
              "  const element = document.createElement('span');\n",
              "  element.textContent = text;\n",
              "  for (const key of Object.keys(styleAttributes)) {\n",
              "    element.style[key] = styleAttributes[key];\n",
              "  }\n",
              "  return element;\n",
              "}\n",
              "\n",
              "// Max number of bytes which will be uploaded at a time.\n",
              "const MAX_PAYLOAD_SIZE = 100 * 1024;\n",
              "\n",
              "function _uploadFiles(inputId, outputId) {\n",
              "  const steps = uploadFilesStep(inputId, outputId);\n",
              "  const outputElement = document.getElementById(outputId);\n",
              "  // Cache steps on the outputElement to make it available for the next call\n",
              "  // to uploadFilesContinue from Python.\n",
              "  outputElement.steps = steps;\n",
              "\n",
              "  return _uploadFilesContinue(outputId);\n",
              "}\n",
              "\n",
              "// This is roughly an async generator (not supported in the browser yet),\n",
              "// where there are multiple asynchronous steps and the Python side is going\n",
              "// to poll for completion of each step.\n",
              "// This uses a Promise to block the python side on completion of each step,\n",
              "// then passes the result of the previous step as the input to the next step.\n",
              "function _uploadFilesContinue(outputId) {\n",
              "  const outputElement = document.getElementById(outputId);\n",
              "  const steps = outputElement.steps;\n",
              "\n",
              "  const next = steps.next(outputElement.lastPromiseValue);\n",
              "  return Promise.resolve(next.value.promise).then((value) => {\n",
              "    // Cache the last promise value to make it available to the next\n",
              "    // step of the generator.\n",
              "    outputElement.lastPromiseValue = value;\n",
              "    return next.value.response;\n",
              "  });\n",
              "}\n",
              "\n",
              "/**\n",
              " * Generator function which is called between each async step of the upload\n",
              " * process.\n",
              " * @param {string} inputId Element ID of the input file picker element.\n",
              " * @param {string} outputId Element ID of the output display.\n",
              " * @return {!Iterable<!Object>} Iterable of next steps.\n",
              " */\n",
              "function* uploadFilesStep(inputId, outputId) {\n",
              "  const inputElement = document.getElementById(inputId);\n",
              "  inputElement.disabled = false;\n",
              "\n",
              "  const outputElement = document.getElementById(outputId);\n",
              "  outputElement.innerHTML = '';\n",
              "\n",
              "  const pickedPromise = new Promise((resolve) => {\n",
              "    inputElement.addEventListener('change', (e) => {\n",
              "      resolve(e.target.files);\n",
              "    });\n",
              "  });\n",
              "\n",
              "  const cancel = document.createElement('button');\n",
              "  inputElement.parentElement.appendChild(cancel);\n",
              "  cancel.textContent = 'Cancel upload';\n",
              "  const cancelPromise = new Promise((resolve) => {\n",
              "    cancel.onclick = () => {\n",
              "      resolve(null);\n",
              "    };\n",
              "  });\n",
              "\n",
              "  // Wait for the user to pick the files.\n",
              "  const files = yield {\n",
              "    promise: Promise.race([pickedPromise, cancelPromise]),\n",
              "    response: {\n",
              "      action: 'starting',\n",
              "    }\n",
              "  };\n",
              "\n",
              "  cancel.remove();\n",
              "\n",
              "  // Disable the input element since further picks are not allowed.\n",
              "  inputElement.disabled = true;\n",
              "\n",
              "  if (!files) {\n",
              "    return {\n",
              "      response: {\n",
              "        action: 'complete',\n",
              "      }\n",
              "    };\n",
              "  }\n",
              "\n",
              "  for (const file of files) {\n",
              "    const li = document.createElement('li');\n",
              "    li.append(span(file.name, {fontWeight: 'bold'}));\n",
              "    li.append(span(\n",
              "        `(${file.type || 'n/a'}) - ${file.size} bytes, ` +\n",
              "        `last modified: ${\n",
              "            file.lastModifiedDate ? file.lastModifiedDate.toLocaleDateString() :\n",
              "                                    'n/a'} - `));\n",
              "    const percent = span('0% done');\n",
              "    li.appendChild(percent);\n",
              "\n",
              "    outputElement.appendChild(li);\n",
              "\n",
              "    const fileDataPromise = new Promise((resolve) => {\n",
              "      const reader = new FileReader();\n",
              "      reader.onload = (e) => {\n",
              "        resolve(e.target.result);\n",
              "      };\n",
              "      reader.readAsArrayBuffer(file);\n",
              "    });\n",
              "    // Wait for the data to be ready.\n",
              "    let fileData = yield {\n",
              "      promise: fileDataPromise,\n",
              "      response: {\n",
              "        action: 'continue',\n",
              "      }\n",
              "    };\n",
              "\n",
              "    // Use a chunked sending to avoid message size limits. See b/62115660.\n",
              "    let position = 0;\n",
              "    do {\n",
              "      const length = Math.min(fileData.byteLength - position, MAX_PAYLOAD_SIZE);\n",
              "      const chunk = new Uint8Array(fileData, position, length);\n",
              "      position += length;\n",
              "\n",
              "      const base64 = btoa(String.fromCharCode.apply(null, chunk));\n",
              "      yield {\n",
              "        response: {\n",
              "          action: 'append',\n",
              "          file: file.name,\n",
              "          data: base64,\n",
              "        },\n",
              "      };\n",
              "\n",
              "      let percentDone = fileData.byteLength === 0 ?\n",
              "          100 :\n",
              "          Math.round((position / fileData.byteLength) * 100);\n",
              "      percent.textContent = `${percentDone}% done`;\n",
              "\n",
              "    } while (position < fileData.byteLength);\n",
              "  }\n",
              "\n",
              "  // All done.\n",
              "  yield {\n",
              "    response: {\n",
              "      action: 'complete',\n",
              "    }\n",
              "  };\n",
              "}\n",
              "\n",
              "scope.google = scope.google || {};\n",
              "scope.google.colab = scope.google.colab || {};\n",
              "scope.google.colab._files = {\n",
              "  _uploadFiles,\n",
              "  _uploadFilesContinue,\n",
              "};\n",
              "})(self);\n",
              "</script> "
            ]
          },
          "metadata": {}
        },
        {
          "output_type": "stream",
          "name": "stdout",
          "text": [
            "Saving bill_authentication.csv to bill_authentication.csv\n"
          ]
        }
      ]
    },
    {
      "cell_type": "code",
      "execution_count": null,
      "metadata": {
        "colab": {
          "base_uri": "https://localhost:8080/"
        },
        "id": "WTnmoEF9mumx",
        "outputId": "ff1abe9e-7ff5-4e3e-a1f0-9d656295e121"
      },
      "outputs": [
        {
          "output_type": "stream",
          "name": "stdout",
          "text": [
            "      Variance  Skewness  Curtosis  Entropy  Class\n",
            "0      3.62160   8.66610   -2.8073 -0.44699      0\n",
            "1      4.54590   8.16740   -2.4586 -1.46210      0\n",
            "2      3.86600  -2.63830    1.9242  0.10645      0\n",
            "3      3.45660   9.52280   -4.0112 -3.59440      0\n",
            "4      0.32924  -4.45520    4.5718 -0.98880      0\n",
            "...        ...       ...       ...      ...    ...\n",
            "1367   0.40614   1.34920   -1.4501 -0.55949      1\n",
            "1368  -1.38870  -4.87730    6.4774  0.34179      1\n",
            "1369  -3.75030 -13.45860   17.5932 -2.77710      1\n",
            "1370  -3.56370  -8.38270   12.3930 -1.28230      1\n",
            "1371  -2.54190  -0.65804    2.6842  1.19520      1\n",
            "\n",
            "[1372 rows x 5 columns]\n"
          ]
        }
      ],
      "source": [
        "\n",
        "import pandas as pd\n",
        "import io\n",
        "import numpy as np\n",
        " \n",
        "bankdata = pd.read_csv(io.BytesIO(uploaded['bill_authentication.csv']))\n",
        "print(bankdata)"
      ]
    },
    {
      "cell_type": "code",
      "source": [
        "X = bankdata.drop('Class', axis=1)\n",
        "y = bankdata['Class']\n",
        "\n"
      ],
      "metadata": {
        "id": "r26yjDzfmvif"
      },
      "execution_count": null,
      "outputs": []
    },
    {
      "cell_type": "code",
      "source": [
        "from sklearn.model_selection import train_test_split\n",
        "from sklearn.dummy import DummyClassifier"
      ],
      "metadata": {
        "id": "vvT0gOg7mvk8"
      },
      "execution_count": null,
      "outputs": []
    },
    {
      "cell_type": "code",
      "source": [
        "X_train, X_rem, y_train, y_rem = train_test_split(X,y, train_size=0.7)"
      ],
      "metadata": {
        "id": "7EEGdhCyNEl0"
      },
      "execution_count": null,
      "outputs": []
    },
    {
      "cell_type": "code",
      "source": [
        "X_valid, X_test, y_valid, y_test = train_test_split(X_rem,y_rem, test_size=0.5)\n"
      ],
      "metadata": {
        "id": "pX0Nl-zPPNPQ"
      },
      "execution_count": null,
      "outputs": []
    },
    {
      "cell_type": "code",
      "source": [
        "from sklearn.preprocessing import StandardScaler\n",
        "scaler = StandardScaler()"
      ],
      "metadata": {
        "id": "M2GVSXQgPNRp"
      },
      "execution_count": null,
      "outputs": []
    },
    {
      "cell_type": "code",
      "source": [
        "X_train_standardized = scaler.fit_transform(X_train)\n",
        "X_test_standardized = scaler.fit_transform(X_test)\n",
        "X_valid_standardized = scaler.fit_transform(X_valid)\n",
        "\n",
        "print(X_train_standardized)\n",
        "print(type(X_train_standardized))\n",
        "#print(type(y_train))"
      ],
      "metadata": {
        "id": "mQdC52dqPNUZ",
        "colab": {
          "base_uri": "https://localhost:8080/"
        },
        "outputId": "aef9dd47-8990-4963-d9c5-c9776b0438b9"
      },
      "execution_count": null,
      "outputs": [
        {
          "output_type": "stream",
          "name": "stdout",
          "text": [
            "[[ 0.16210156  0.23539191 -1.35131461 -1.21033266]\n",
            " [ 0.25259651  1.19849289 -0.78851409  0.02788152]\n",
            " [ 1.08052602  0.81010467 -0.58450472  0.38435785]\n",
            " ...\n",
            " [ 1.07256823  0.84127131 -0.55019669  0.21859436]\n",
            " [-0.86213304  0.21102999 -0.62018599 -0.6731772 ]\n",
            " [ 1.27694834 -1.10854804  0.80057111  1.11905987]]\n",
            "<class 'numpy.ndarray'>\n"
          ]
        }
      ]
    },
    {
      "cell_type": "code",
      "source": [
        "from sklearn import svm\n",
        "svc = svm.SVC(kernel= 'linear', random_state=1, C=1.0)\n",
        "svc.fit(X_train_standardized,y_train)"
      ],
      "metadata": {
        "colab": {
          "base_uri": "https://localhost:8080/"
        },
        "id": "4AhX9TEXPNWw",
        "outputId": "a7118a80-b2f7-449d-81ed-96cb09f7a636"
      },
      "execution_count": null,
      "outputs": [
        {
          "output_type": "execute_result",
          "data": {
            "text/plain": [
              "SVC(kernel='linear', random_state=1)"
            ]
          },
          "metadata": {},
          "execution_count": 30
        }
      ]
    },
    {
      "cell_type": "code",
      "source": [
        "y_val_predictions = svc.predict(X_valid_standardized)\n"
      ],
      "metadata": {
        "id": "jntBOMQfPNap"
      },
      "execution_count": null,
      "outputs": []
    },
    {
      "cell_type": "code",
      "source": [
        "#Import scikit-learn metrics module for accuracy calculation\n",
        "from sklearn import metrics\n",
        "\n",
        "# Model Accuracy: how often is the classifier correct?\n",
        "print(\"Accuracy:\",metrics.accuracy_score(y_valid, y_val_predictions))"
      ],
      "metadata": {
        "colab": {
          "base_uri": "https://localhost:8080/"
        },
        "id": "7rrIQvAbTJP5",
        "outputId": "b1b404d4-2d26-477a-e346-d2a843fd1305"
      },
      "execution_count": null,
      "outputs": [
        {
          "output_type": "stream",
          "name": "stdout",
          "text": [
            "Accuracy: 0.9854368932038835\n"
          ]
        }
      ]
    },
    {
      "cell_type": "code",
      "source": [
        "from sklearn.metrics import f1_score"
      ],
      "metadata": {
        "id": "U2pkzE_pTCoG"
      },
      "execution_count": null,
      "outputs": []
    },
    {
      "cell_type": "code",
      "source": [
        "print(\"f1 score:\",f1_score(y_valid, y_val_predictions))"
      ],
      "metadata": {
        "colab": {
          "base_uri": "https://localhost:8080/"
        },
        "id": "3ZO-ZwXhYN-G",
        "outputId": "24adbb77-de70-4ae7-d4d9-21517fb5d1a0"
      },
      "execution_count": null,
      "outputs": [
        {
          "output_type": "stream",
          "name": "stdout",
          "text": [
            "f1 score: 0.9832402234636871\n"
          ]
        }
      ]
    },
    {
      "cell_type": "code",
      "source": [
        "#0 means authentic and 1 means counterfeit \n",
        "#True Negative False positive] [ False Negative True Positive\n",
        "from sklearn.metrics import classification_report, confusion_matrix\n",
        "cm = confusion_matrix(y_valid,y_val_predictions)\n",
        "print(cm)\n",
        "print(\"true negative:\",cm[0][0])\n",
        "print(\"false positive:\",cm[0][1])\n",
        "print(\"false negative:\",cm[1][0])\n",
        "print(\"true positive:\",cm[1][1])\n",
        "print(classification_report(y_valid,y_val_predictions))"
      ],
      "metadata": {
        "colab": {
          "base_uri": "https://localhost:8080/"
        },
        "id": "zY5tJxDMYdre",
        "outputId": "822fc63f-0071-478b-f3ba-ac215275a782"
      },
      "execution_count": null,
      "outputs": [
        {
          "output_type": "stream",
          "name": "stdout",
          "text": [
            "[[115   3]\n",
            " [  0  88]]\n",
            "true negative: 115\n",
            "false positive: 3\n",
            "false negative: 0\n",
            "true positive: 88\n",
            "              precision    recall  f1-score   support\n",
            "\n",
            "           0       1.00      0.97      0.99       118\n",
            "           1       0.97      1.00      0.98        88\n",
            "\n",
            "    accuracy                           0.99       206\n",
            "   macro avg       0.98      0.99      0.99       206\n",
            "weighted avg       0.99      0.99      0.99       206\n",
            "\n"
          ]
        }
      ]
    },
    {
      "cell_type": "code",
      "source": [
        "# part 2: here ill test the c value to be 1.25\n",
        "from sklearn import svm\n",
        "tuned_svc = svm.SVC(kernel= 'linear', random_state=1, C=1.25)\n",
        "tuned_svc.fit(X_train_standardized,y_train)"
      ],
      "metadata": {
        "colab": {
          "base_uri": "https://localhost:8080/"
        },
        "id": "rvY_2UTVdTsU",
        "outputId": "27b95282-4d1f-4af7-f52c-bf9f8f45ba9c"
      },
      "execution_count": null,
      "outputs": [
        {
          "output_type": "execute_result",
          "data": {
            "text/plain": [
              "SVC(C=1.25, kernel='linear', random_state=1)"
            ]
          },
          "metadata": {},
          "execution_count": 36
        }
      ]
    },
    {
      "cell_type": "code",
      "source": [
        "new_y_val_predictions = tuned_svc.predict(X_valid_standardized)"
      ],
      "metadata": {
        "id": "A6OQmsXq1UEx"
      },
      "execution_count": null,
      "outputs": []
    },
    {
      "cell_type": "code",
      "source": [
        "#Import scikit-learn metrics module for accuracy calculation\n",
        "from sklearn import metrics\n",
        "\n",
        "# Model Accuracy: how often is the classifier correct?\n",
        "print(\"Accuracy:\",metrics.accuracy_score(y_valid, new_y_val_predictions))"
      ],
      "metadata": {
        "colab": {
          "base_uri": "https://localhost:8080/"
        },
        "id": "v80p0H3i1UKa",
        "outputId": "b4a6fae6-3dbc-4b03-c9ac-74cdfd595a98"
      },
      "execution_count": null,
      "outputs": [
        {
          "output_type": "stream",
          "name": "stdout",
          "text": [
            "Accuracy: 0.9854368932038835\n"
          ]
        }
      ]
    },
    {
      "cell_type": "code",
      "source": [
        "print(\"f1 score:\",f1_score(y_valid, new_y_val_predictions))"
      ],
      "metadata": {
        "colab": {
          "base_uri": "https://localhost:8080/"
        },
        "id": "n_5wp_4Y1UM9",
        "outputId": "3164958a-40a6-4c34-c82d-48cdf711dc93"
      },
      "execution_count": null,
      "outputs": [
        {
          "output_type": "stream",
          "name": "stdout",
          "text": [
            "f1 score: 0.9832402234636871\n"
          ]
        }
      ]
    },
    {
      "cell_type": "code",
      "source": [
        "#0 means authentic and 1 means counterfeit \n",
        "#True Negative False positive] [ False Negative True Positive\n",
        "from sklearn.metrics import classification_report, confusion_matrix\n",
        "cm = confusion_matrix(y_valid,new_y_val_predictions)\n",
        "print(cm)\n",
        "print(\"true negative:\",cm[0][0])\n",
        "print(\"false positive:\",cm[0][1])\n",
        "print(\"false negative:\",cm[1][0])\n",
        "print(\"true positive:\",cm[1][1])\n",
        "print(classification_report(y_valid,new_y_val_predictions))"
      ],
      "metadata": {
        "colab": {
          "base_uri": "https://localhost:8080/"
        },
        "id": "Mez7F05v1UPG",
        "outputId": "5aa40636-9da5-4bd0-a315-e7bd159f4424"
      },
      "execution_count": null,
      "outputs": [
        {
          "output_type": "stream",
          "name": "stdout",
          "text": [
            "[[115   3]\n",
            " [  0  88]]\n",
            "true negative: 115\n",
            "false positive: 3\n",
            "false negative: 0\n",
            "true positive: 88\n",
            "              precision    recall  f1-score   support\n",
            "\n",
            "           0       1.00      0.97      0.99       118\n",
            "           1       0.97      1.00      0.98        88\n",
            "\n",
            "    accuracy                           0.99       206\n",
            "   macro avg       0.98      0.99      0.99       206\n",
            "weighted avg       0.99      0.99      0.99       206\n",
            "\n"
          ]
        }
      ]
    },
    {
      "cell_type": "code",
      "source": [
        "#knn algorithm\n",
        "from scipy.stats import mode\n",
        "\n",
        "def euclidean_distance(pt1, pt2):\n",
        "  distance = np.sqrt(np.sum(pt1-pt2)**2)\n",
        "\n",
        "  return distance\n",
        "\n",
        "\n",
        "\n",
        "def knn(x_train_set, x_development_set, y_train_data, k_value ):\n",
        "  \n",
        "  y_hat = []\n",
        "\n",
        "  for x_valid_point in x_development_set:\n",
        "\n",
        "    distances = []\n",
        "\n",
        "\n",
        "    for x_train_point in range(len(x_train_set)):\n",
        "      euc_distance = euclidean_distance(np.array(x_train_set[x_train_point,:]),x_valid_point)\n",
        "      distances.append(euc_distance)\n",
        "    distances = np.array(distances)\n",
        "\n",
        "    sorted_distances = np.argsort(distances)[:k_value]\n",
        "    labels = y[sorted_distances]\n",
        "\n",
        "    lab = mode(labels)\n",
        "    lab = lab.mode[0]\n",
        "    y_hat.append(lab)\n",
        "\n",
        "  return y_hat\n",
        "\n",
        "\n",
        "\n"
      ],
      "metadata": {
        "id": "p-o8rilH1UWF"
      },
      "execution_count": null,
      "outputs": []
    },
    {
      "cell_type": "code",
      "source": [
        "k_values = (2,3,4,5,6,7,8,9,10,11,12)\n",
        "\n",
        "for k_value in k_values:\n",
        "  y_predicted_knn = knn(X_train_standardized,X_valid_standardized,y_train,k_value)\n",
        "  scratchKNNAccuracy = metrics.accuracy_score(y_valid, y_predicted_knn)\n",
        "\n",
        "  print(\"The k value is k = %d is %f\" %(k_value, scratchKNNAccuracy ))\n"
      ],
      "metadata": {
        "colab": {
          "base_uri": "https://localhost:8080/"
        },
        "id": "obl3HmraOWdo",
        "outputId": "995d9f90-8c27-4711-be30-fab435160192"
      },
      "execution_count": null,
      "outputs": [
        {
          "output_type": "stream",
          "name": "stdout",
          "text": [
            "The k value is k = 2 is 0.577670\n",
            "The k value is k = 3 is 0.592233\n",
            "The k value is k = 4 is 0.572816\n",
            "The k value is k = 5 is 0.567961\n",
            "The k value is k = 6 is 0.582524\n",
            "The k value is k = 7 is 0.567961\n",
            "The k value is k = 8 is 0.582524\n",
            "The k value is k = 9 is 0.563107\n",
            "The k value is k = 10 is 0.582524\n",
            "The k value is k = 11 is 0.567961\n",
            "The k value is k = 12 is 0.572816\n"
          ]
        }
      ]
    },
    {
      "cell_type": "code",
      "source": [
        "# Part 4: Use Dummy Classifier from sklearn on the data.\n",
        "\n",
        "# The Dummy classifier uses most frequent strategy\n",
        "classifer_most_frequent = DummyClassifier(strategy = 'most_frequent').fit(X_train_standardized, y_train)\n",
        "y_predictions_for_frequency = classifer_most_frequent.predict(X_valid_standardized)\n",
        "accuracy_for_most_frequent = metrics.accuracy_score(y_valid, y_predictions_for_frequency)\n",
        "print (\"The accuracy score using strategy = most_frequent is %f \" %accuracy_for_most_frequent)\n",
        "\n",
        "# The Dummy classifier uses stratified strategy\n",
        "classifier_stratified = DummyClassifier(strategy = 'stratified').fit(X_train_standardized, y_train)\n",
        "y_strat_prediction = classifier_stratified.predict(X_valid_standardized)\n",
        "accuracy_for_stratified = metrics.accuracy_score(y_valid, y_strat_prediction)\n",
        "print (\"The accuracy score using strategy = stratified is %f \" %accuracy_for_stratified)"
      ],
      "metadata": {
        "colab": {
          "base_uri": "https://localhost:8080/"
        },
        "id": "BAPeK1M9QhjY",
        "outputId": "bdb2e323-46c9-4c19-e129-9dbb30e87435"
      },
      "execution_count": null,
      "outputs": [
        {
          "output_type": "stream",
          "name": "stdout",
          "text": [
            "The accuracy score using strategy = most_frequent is 0.524272 \n",
            "The accuracy score using strategy = stratified is 0.461165 \n"
          ]
        }
      ]
    },
    {
      "cell_type": "code",
      "source": [
        "#part 5: comparison of svm vs KNN and baseline \n",
        "\n",
        "#SVM with tuned hyperparmaters with a c=1.25\n",
        "tuned_svc = svm.SVC(kernel= 'linear', random_state=1, C=1.25)\n",
        "tuned_svc.fit(X_train_standardized,y_train)\n",
        "\n",
        "new_y_val_predictions = tuned_svc.predict(X_valid_standardized)\n",
        "\n",
        "# Model Accuracy\n",
        "print(\"Accuracy:\",metrics.accuracy_score(y_valid, new_y_val_predictions))\n",
        "print(\"f1 score:\",f1_score(y_valid, new_y_val_predictions))\n",
        "\n",
        "\n",
        "#KNN with k=6\n",
        "y_predicted_knn = knn(X_train_standardized,X_test_standardized,y_train,6)\n",
        "scratchKNNAccuracy = metrics.accuracy_score(y_valid, y_predicted_knn)\n",
        "print(\"The k value is k = %d is %f\" %(k_value, scratchKNNAccuracy ))\n",
        "\n",
        "\n",
        "#baseline classifier with most frequent strategy\n",
        "y_predictions_for_frequency = classifer_most_frequent.predict(X_test_standardized)\n",
        "accuracy_for_most_frequent = metrics.accuracy_score(y_test, y_predictions_for_frequency)\n",
        "print (\"The accuracy score using strategy = most_frequent is %f \" %accuracy_for_most_frequent)\n",
        "\n",
        "#baseline classifier with stratified strategy\n",
        "y_strat_prediction = classifier_stratified.predict(X_test_standardized)\n",
        "accuracy_for_stratified = metrics.accuracy_score(y_test, y_strat_prediction)\n",
        "print (\"The accuracy score using strategy = stratified is %f \" %accuracy_for_stratified)\n",
        "\n",
        "\n",
        "\n"
      ],
      "metadata": {
        "id": "LjAi2sB6-U8-",
        "colab": {
          "base_uri": "https://localhost:8080/"
        },
        "outputId": "9770c713-6e92-400c-fe73-e787707ee285"
      },
      "execution_count": null,
      "outputs": [
        {
          "output_type": "stream",
          "name": "stdout",
          "text": [
            "Accuracy: 1.0\n",
            "f1 score: 1.0\n",
            "The k value is k = 12 is 0.524272\n",
            "The accuracy score using strategy = most_frequent is 0.640777 \n",
            "The accuracy score using strategy = stratified is 0.558252 \n"
          ]
        }
      ]
    },
    {
      "cell_type": "code",
      "source": [],
      "metadata": {
        "id": "XqXQf6VuAOxp"
      },
      "execution_count": null,
      "outputs": []
    }
  ]
}
